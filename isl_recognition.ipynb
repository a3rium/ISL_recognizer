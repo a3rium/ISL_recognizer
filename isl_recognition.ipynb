{
 "cells": [
  {
   "cell_type": "code",
   "execution_count": 38,
   "metadata": {},
   "outputs": [],
   "source": [
    "from pathlib import Path\n",
    "import pandas as pd\n",
    "import os\n",
    "import os.path"
   ]
  },
  {
   "cell_type": "code",
   "execution_count": 39,
   "metadata": {},
   "outputs": [],
   "source": [
    "image_collection_path = Path(\"../Dataset/Indian\")"
   ]
  },
  {
   "cell_type": "code",
   "execution_count": 40,
   "metadata": {},
   "outputs": [],
   "source": [
    "jpg_paths = list(image_collection_path.glob(r\"*/*_canny.jpg\"))"
   ]
  },
  {
   "cell_type": "code",
   "execution_count": 41,
   "metadata": {},
   "outputs": [],
   "source": [
    "labels = list(map(lambda x: os.path.split(os.path.split(x)[0])[1],jpg_paths))"
   ]
  },
  {
   "cell_type": "code",
   "execution_count": 42,
   "metadata": {},
   "outputs": [],
   "source": [
    "jpg_path_series = pd.Series(jpg_paths, name=\"PATH\").astype(str)\n",
    "label_series = pd.Series(labels, name=\"LABEL\")"
   ]
  },
  {
   "cell_type": "code",
   "execution_count": 43,
   "metadata": {},
   "outputs": [],
   "source": [
    "path_dataset = pd.concat([jpg_path_series, label_series], axis=1)\n",
    "path_dataset = path_dataset.sample(frac=1).reset_index(drop=True)"
   ]
  },
  {
   "cell_type": "code",
   "execution_count": 44,
   "metadata": {},
   "outputs": [
    {
     "name": "stdout",
     "output_type": "stream",
     "text": [
      "                                     PATH LABEL\n",
      "0      ..\\Dataset\\Indian\\I\\1121_canny.jpg     I\n",
      "1       ..\\Dataset\\Indian\\7\\684_canny.jpg     7\n",
      "2        ..\\Dataset\\Indian\\L\\36_canny.jpg     L\n",
      "3       ..\\Dataset\\Indian\\Y\\970_canny.jpg     Y\n",
      "4       ..\\Dataset\\Indian\\L\\815_canny.jpg     L\n",
      "...                                   ...   ...\n",
      "42560    ..\\Dataset\\Indian\\Q\\14_canny.jpg     Q\n",
      "42561   ..\\Dataset\\Indian\\V\\073_canny.jpg     V\n",
      "42562  ..\\Dataset\\Indian\\I\\1024_canny.jpg     I\n",
      "42563   ..\\Dataset\\Indian\\F\\153_canny.jpg     F\n",
      "42564  ..\\Dataset\\Indian\\C\\1160_canny.jpg     C\n",
      "\n",
      "[42565 rows x 2 columns]\n"
     ]
    }
   ],
   "source": [
    "print(path_dataset.head(-1))"
   ]
  },
  {
   "cell_type": "code",
   "execution_count": 45,
   "metadata": {},
   "outputs": [],
   "source": [
    "from sklearn.model_selection import train_test_split"
   ]
  },
  {
   "cell_type": "code",
   "execution_count": 46,
   "metadata": {},
   "outputs": [
    {
     "name": "stdout",
     "output_type": "stream",
     "text": [
      "(34052, 2)\n",
      "(8514, 2)\n"
     ]
    }
   ],
   "source": [
    "train_paths, test_paths = train_test_split(path_dataset, train_size=0.8, random_state=333, shuffle=True)\n",
    "print(train_paths.shape)\n",
    "print(test_paths.shape)"
   ]
  },
  {
   "cell_type": "markdown",
   "metadata": {},
   "source": [
    "# CNN"
   ]
  },
  {
   "cell_type": "code",
   "execution_count": 47,
   "metadata": {},
   "outputs": [],
   "source": [
    "from tensorflow.keras.preprocessing.image import ImageDataGenerator"
   ]
  },
  {
   "cell_type": "code",
   "execution_count": 48,
   "metadata": {},
   "outputs": [],
   "source": [
    "train_generator = ImageDataGenerator(rescale=1./255, zoom_range=0.5,shear_range=0.5, brightness_range=[0.6,1.0],rotation_range=35,height_shift_range=0.1,width_shift_range=0.1,vertical_flip=True, featurewise_std_normalization=False, fill_mode=\"nearest\", validation_split=0.1)\n",
    "test_generator = ImageDataGenerator(rescale=1./255)"
   ]
  },
  {
   "cell_type": "code",
   "execution_count": 49,
   "metadata": {},
   "outputs": [
    {
     "name": "stdout",
     "output_type": "stream",
     "text": [
      "Found 30647 validated image filenames belonging to 35 classes.\n",
      "(256, 256, 1)\n",
      "Found 3405 validated image filenames belonging to 35 classes.\n",
      "(256, 256, 1)\n",
      "Found 8514 validated image filenames belonging to 35 classes.\n",
      "(256, 256, 1)\n"
     ]
    }
   ],
   "source": [
    "train_set = train_generator.flow_from_dataframe(dataframe=train_paths, x_col=\"PATH\", y_col=\"LABEL\", batch_size=32, class_mode=\"categorical\", color_mode=\"grayscale\", subset=\"training\")\n",
    "print(train_set.image_shape)\n",
    "validation_set = train_generator.flow_from_dataframe(dataframe=train_paths, x_col=\"PATH\", y_col=\"LABEL\", batch_size=32, class_mode=\"categorical\", color_mode=\"grayscale\", subset=\"validation\")\n",
    "print(validation_set.image_shape)\n",
    "test_set = test_generator.flow_from_dataframe(dataframe=test_paths, x_col=\"PATH\", y_col=\"LABEL\", batch_size=32, class_mode=\"categorical\", color_mode=\"grayscale\", shuffle=False)\n",
    "print(test_set.image_shape)"
   ]
  },
  {
   "cell_type": "code",
   "execution_count": 50,
   "metadata": {},
   "outputs": [],
   "source": [
    "import tensorflow as tf"
   ]
  },
  {
   "cell_type": "code",
   "execution_count": 51,
   "metadata": {},
   "outputs": [],
   "source": [
    "MODEL_LOSS = \"categorical_crossentropy\"\n",
    "MODEL_OPTIMIZER = \"adam\"\n",
    "MODEL_METRICS = [\"accuracy\"]\n",
    "INPUT_DIM = train_set.image_shape\n",
    "OUTPUT_DIM = 35\n",
    "early_stopper_callback = tf.keras.callbacks.EarlyStopping(monitor = \"loss\", patience = 3, mode = \"min\")\n",
    "checkpoint_callback = tf.keras.callbacks.ModelCheckpoint(monitor = \"val_accuracy\",\n",
    "                                                      save_weights_only = True,\n",
    "                                                      filepath = \"./modelcheckpoints\")"
   ]
  },
  {
   "cell_type": "code",
   "execution_count": 52,
   "metadata": {},
   "outputs": [],
   "source": [
    "from tensorflow.keras.models import Sequential\n",
    "from keras.layers import Conv2D, BatchNormalization, MaxPooling2D, Conv2D, Dropout, Flatten, Dense"
   ]
  },
  {
   "cell_type": "code",
   "execution_count": 53,
   "metadata": {},
   "outputs": [],
   "source": [
    "Model = Sequential()\n",
    "\n",
    "Model.add(Conv2D(32,(3,3),activation=\"relu\",input_shape=INPUT_DIM))\n",
    "Model.add(MaxPooling2D((2,2),strides=2))\n",
    "\n",
    "Model.add(Conv2D(32,(3,3),activation=\"relu\",padding=\"same\"))\n",
    "Model.add(MaxPooling2D((2,2),strides=2))\n",
    "\n",
    "Model.add(Conv2D(64,(3,3),activation=\"relu\",padding=\"same\"))\n",
    "Model.add(MaxPooling2D((2,2),strides=2))\n",
    "\n",
    "Model.add(Conv2D(64,(3,3),activation=\"relu\",padding=\"same\"))\n",
    "Model.add(Conv2D(64,(3,3),activation=\"relu\",padding=\"same\"))\n",
    "Model.add(Dropout(0.3))\n",
    "Model.add(MaxPooling2D((2,2),strides=2))\n",
    "\n",
    "Model.add(Conv2D(128,(3,3),activation=\"relu\",padding=\"same\"))\n",
    "Model.add(Dropout(0.3))\n",
    "Model.add(MaxPooling2D((2,2),strides=2))\n",
    "\n",
    "Model.add(Flatten())\n",
    "Model.add(Dense(256,activation=\"relu\"))\n",
    "Model.add(Dropout(0.5))\n",
    "Model.add(Dense(OUTPUT_DIM,activation=\"softmax\"))"
   ]
  },
  {
   "cell_type": "code",
   "execution_count": 56,
   "metadata": {},
   "outputs": [],
   "source": [
    "Model.compile(optimizer=MODEL_OPTIMIZER,loss=MODEL_LOSS,metrics=MODEL_METRICS)"
   ]
  },
  {
   "cell_type": "code",
   "execution_count": 57,
   "metadata": {},
   "outputs": [
    {
     "name": "stdout",
     "output_type": "stream",
     "text": [
      "Epoch 1/50\n",
      "958/958 [==============================] - 834s 870ms/step - loss: 2.1397 - accuracy: 0.3757 - val_loss: 1.0125 - val_accuracy: 0.7777\n",
      "Epoch 2/50\n",
      "958/958 [==============================] - 814s 849ms/step - loss: 0.8370 - accuracy: 0.7385 - val_loss: 0.5023 - val_accuracy: 0.9016\n",
      "Epoch 3/50\n",
      "958/958 [==============================] - 814s 849ms/step - loss: 0.4979 - accuracy: 0.8375 - val_loss: 0.2920 - val_accuracy: 0.9465\n",
      "Epoch 4/50\n",
      "958/958 [==============================] - 832s 868ms/step - loss: 0.3665 - accuracy: 0.8837 - val_loss: 0.1580 - val_accuracy: 0.9709\n",
      "Epoch 5/50\n",
      "958/958 [==============================] - 818s 854ms/step - loss: 0.2948 - accuracy: 0.9051 - val_loss: 0.1268 - val_accuracy: 0.9791\n",
      "Epoch 6/50\n",
      "958/958 [==============================] - 797s 832ms/step - loss: 0.2525 - accuracy: 0.9156 - val_loss: 0.1143 - val_accuracy: 0.9783\n",
      "Epoch 7/50\n",
      "958/958 [==============================] - 822s 857ms/step - loss: 0.2198 - accuracy: 0.9283 - val_loss: 0.0981 - val_accuracy: 0.9824\n",
      "Epoch 8/50\n",
      "958/958 [==============================] - 802s 837ms/step - loss: 0.2027 - accuracy: 0.9349 - val_loss: 0.0998 - val_accuracy: 0.9815\n",
      "Epoch 9/50\n",
      "958/958 [==============================] - 802s 837ms/step - loss: 0.1807 - accuracy: 0.9403 - val_loss: 0.0557 - val_accuracy: 0.9900\n",
      "Epoch 10/50\n",
      "958/958 [==============================] - 814s 849ms/step - loss: 0.1708 - accuracy: 0.9454 - val_loss: 0.0826 - val_accuracy: 0.9838\n",
      "Epoch 11/50\n",
      "958/958 [==============================] - 792s 826ms/step - loss: 0.1528 - accuracy: 0.9514 - val_loss: 0.0687 - val_accuracy: 0.9859\n",
      "Epoch 12/50\n",
      "958/958 [==============================] - 795s 830ms/step - loss: 0.1466 - accuracy: 0.9535 - val_loss: 0.0643 - val_accuracy: 0.9844\n",
      "Epoch 13/50\n",
      "958/958 [==============================] - 831s 868ms/step - loss: 0.1325 - accuracy: 0.9570 - val_loss: 0.0365 - val_accuracy: 0.9915\n",
      "Epoch 14/50\n",
      "958/958 [==============================] - 825s 861ms/step - loss: 0.1228 - accuracy: 0.9609 - val_loss: 0.0270 - val_accuracy: 0.9953\n",
      "Epoch 15/50\n",
      "958/958 [==============================] - 808s 844ms/step - loss: 0.1172 - accuracy: 0.9619 - val_loss: 0.0330 - val_accuracy: 0.9924\n",
      "Epoch 16/50\n",
      "958/958 [==============================] - 816s 851ms/step - loss: 0.1180 - accuracy: 0.9634 - val_loss: 0.0366 - val_accuracy: 0.9930\n",
      "Epoch 17/50\n",
      "958/958 [==============================] - 813s 848ms/step - loss: 0.1111 - accuracy: 0.9658 - val_loss: 0.0359 - val_accuracy: 0.9950\n",
      "Epoch 18/50\n",
      "958/958 [==============================] - 797s 831ms/step - loss: 0.1070 - accuracy: 0.9669 - val_loss: 0.0332 - val_accuracy: 0.9927\n",
      "Epoch 19/50\n",
      "958/958 [==============================] - 796s 831ms/step - loss: 0.0931 - accuracy: 0.9697 - val_loss: 0.0284 - val_accuracy: 0.9941\n",
      "Epoch 20/50\n",
      "958/958 [==============================] - 788s 822ms/step - loss: 0.0964 - accuracy: 0.9716 - val_loss: 0.0394 - val_accuracy: 0.9930\n",
      "Epoch 21/50\n",
      "958/958 [==============================] - 760s 793ms/step - loss: 0.0959 - accuracy: 0.9704 - val_loss: 0.0285 - val_accuracy: 0.9938\n",
      "Epoch 22/50\n",
      "958/958 [==============================] - 793s 828ms/step - loss: 0.0923 - accuracy: 0.9709 - val_loss: 0.0280 - val_accuracy: 0.9959\n",
      "Epoch 23/50\n",
      "958/958 [==============================] - 736s 767ms/step - loss: 0.0821 - accuracy: 0.9745 - val_loss: 0.0239 - val_accuracy: 0.9935\n",
      "Epoch 24/50\n",
      "697/958 [====================>.........] - ETA: 3:22 - loss: 0.0875 - accuracy: 0.9723"
     ]
    }
   ],
   "source": [
    "CNN_Model = Model.fit(train_set,\n",
    "                      validation_data=validation_set,\n",
    "                      callbacks=[early_stopper_callback,checkpoint_callback],\n",
    "                      epochs=50)"
   ]
  },
  {
   "cell_type": "code",
   "execution_count": null,
   "metadata": {},
   "outputs": [
    {
     "ename": "ValueError",
     "evalue": "This model has not yet been built. Build the model first by calling `build()` or calling `fit()` with some data, or specify an `input_shape` argument in the first layer(s) for automatic build.",
     "output_type": "error",
     "traceback": [
      "\u001b[1;31m---------------------------------------------------------------------------\u001b[0m",
      "\u001b[1;31mValueError\u001b[0m                                Traceback (most recent call last)",
      "\u001b[1;32m<ipython-input-55-094d39383551>\u001b[0m in \u001b[0;36m<module>\u001b[1;34m\u001b[0m\n\u001b[1;32m----> 1\u001b[1;33m \u001b[0mModel\u001b[0m\u001b[1;33m.\u001b[0m\u001b[0msummary\u001b[0m\u001b[1;33m(\u001b[0m\u001b[1;33m)\u001b[0m\u001b[1;33m\u001b[0m\u001b[1;33m\u001b[0m\u001b[0m\n\u001b[0m",
      "\u001b[1;32mc:\\Users\\Asad\\AppData\\Local\\Programs\\Python\\Python39\\lib\\site-packages\\tensorflow\\python\\keras\\engine\\training.py\u001b[0m in \u001b[0;36msummary\u001b[1;34m(self, line_length, positions, print_fn)\u001b[0m\n\u001b[0;32m   2475\u001b[0m     \"\"\"\n\u001b[0;32m   2476\u001b[0m     \u001b[1;32mif\u001b[0m \u001b[1;32mnot\u001b[0m \u001b[0mself\u001b[0m\u001b[1;33m.\u001b[0m\u001b[0mbuilt\u001b[0m\u001b[1;33m:\u001b[0m\u001b[1;33m\u001b[0m\u001b[1;33m\u001b[0m\u001b[0m\n\u001b[1;32m-> 2477\u001b[1;33m       raise ValueError('This model has not yet been built. '\n\u001b[0m\u001b[0;32m   2478\u001b[0m                        \u001b[1;34m'Build the model first by calling `build()` or calling '\u001b[0m\u001b[1;33m\u001b[0m\u001b[1;33m\u001b[0m\u001b[0m\n\u001b[0;32m   2479\u001b[0m                        \u001b[1;34m'`fit()` with some data, or specify '\u001b[0m\u001b[1;33m\u001b[0m\u001b[1;33m\u001b[0m\u001b[0m\n",
      "\u001b[1;31mValueError\u001b[0m: This model has not yet been built. Build the model first by calling `build()` or calling `fit()` with some data, or specify an `input_shape` argument in the first layer(s) for automatic build."
     ]
    }
   ],
   "source": [
    "Model.summary()"
   ]
  },
  {
   "cell_type": "code",
   "execution_count": null,
   "metadata": {},
   "outputs": [
    {
     "name": "stdout",
     "output_type": "stream",
     "text": [
      "WARNING:tensorflow:Skipping full serialization of Keras layer <tensorflow.python.keras.engine.sequential.Sequential object at 0x0000022F0ABD4640>, because it is not built.\n"
     ]
    },
    {
     "ename": "ValueError",
     "evalue": "Model <tensorflow.python.keras.engine.sequential.Sequential object at 0x0000022F0ABD4640> cannot be saved because the input shapes have not been set. Usually, input shapes are automatically determined from calling `.fit()` or `.predict()`. To manually set the shapes, call `model.build(input_shape)`.",
     "output_type": "error",
     "traceback": [
      "\u001b[1;31m---------------------------------------------------------------------------\u001b[0m",
      "\u001b[1;31mValueError\u001b[0m                                Traceback (most recent call last)",
      "\u001b[1;32m<ipython-input-18-0f9a9dc6ffec>\u001b[0m in \u001b[0;36m<module>\u001b[1;34m\u001b[0m\n\u001b[1;32m----> 1\u001b[1;33m \u001b[0mModel\u001b[0m\u001b[1;33m.\u001b[0m\u001b[0msave\u001b[0m\u001b[1;33m(\u001b[0m\u001b[1;34m\"predictor_model\"\u001b[0m\u001b[1;33m)\u001b[0m\u001b[1;33m\u001b[0m\u001b[1;33m\u001b[0m\u001b[0m\n\u001b[0m",
      "\u001b[1;32mc:\\Users\\Asad\\AppData\\Local\\Programs\\Python\\Python39\\lib\\site-packages\\tensorflow\\python\\keras\\engine\\training.py\u001b[0m in \u001b[0;36msave\u001b[1;34m(self, filepath, overwrite, include_optimizer, save_format, signatures, options, save_traces)\u001b[0m\n\u001b[0;32m   2109\u001b[0m     \"\"\"\n\u001b[0;32m   2110\u001b[0m     \u001b[1;31m# pylint: enable=line-too-long\u001b[0m\u001b[1;33m\u001b[0m\u001b[1;33m\u001b[0m\u001b[1;33m\u001b[0m\u001b[0m\n\u001b[1;32m-> 2111\u001b[1;33m     save.save_model(self, filepath, overwrite, include_optimizer, save_format,\n\u001b[0m\u001b[0;32m   2112\u001b[0m                     signatures, options, save_traces)\n\u001b[0;32m   2113\u001b[0m \u001b[1;33m\u001b[0m\u001b[0m\n",
      "\u001b[1;32mc:\\Users\\Asad\\AppData\\Local\\Programs\\Python\\Python39\\lib\\site-packages\\tensorflow\\python\\keras\\saving\\save.py\u001b[0m in \u001b[0;36msave_model\u001b[1;34m(model, filepath, overwrite, include_optimizer, save_format, signatures, options, save_traces)\u001b[0m\n\u001b[0;32m    148\u001b[0m   \u001b[1;32melse\u001b[0m\u001b[1;33m:\u001b[0m\u001b[1;33m\u001b[0m\u001b[1;33m\u001b[0m\u001b[0m\n\u001b[0;32m    149\u001b[0m     \u001b[1;32mwith\u001b[0m \u001b[0mgeneric_utils\u001b[0m\u001b[1;33m.\u001b[0m\u001b[0mSharedObjectSavingScope\u001b[0m\u001b[1;33m(\u001b[0m\u001b[1;33m)\u001b[0m\u001b[1;33m:\u001b[0m\u001b[1;33m\u001b[0m\u001b[1;33m\u001b[0m\u001b[0m\n\u001b[1;32m--> 150\u001b[1;33m       saved_model_save.save(model, filepath, overwrite, include_optimizer,\n\u001b[0m\u001b[0;32m    151\u001b[0m                             signatures, options, save_traces)\n\u001b[0;32m    152\u001b[0m \u001b[1;33m\u001b[0m\u001b[0m\n",
      "\u001b[1;32mc:\\Users\\Asad\\AppData\\Local\\Programs\\Python\\Python39\\lib\\site-packages\\tensorflow\\python\\keras\\saving\\saved_model\\save.py\u001b[0m in \u001b[0;36msave\u001b[1;34m(model, filepath, overwrite, include_optimizer, signatures, options, save_traces)\u001b[0m\n\u001b[0;32m     72\u001b[0m   \u001b[1;32mif\u001b[0m \u001b[0msave_traces\u001b[0m\u001b[1;33m:\u001b[0m\u001b[1;33m\u001b[0m\u001b[1;33m\u001b[0m\u001b[0m\n\u001b[0;32m     73\u001b[0m     \u001b[1;32mif\u001b[0m \u001b[0msave_impl\u001b[0m\u001b[1;33m.\u001b[0m\u001b[0mshould_skip_serialization\u001b[0m\u001b[1;33m(\u001b[0m\u001b[0mmodel\u001b[0m\u001b[1;33m)\u001b[0m\u001b[1;33m:\u001b[0m\u001b[1;33m\u001b[0m\u001b[1;33m\u001b[0m\u001b[0m\n\u001b[1;32m---> 74\u001b[1;33m       \u001b[0msaving_utils\u001b[0m\u001b[1;33m.\u001b[0m\u001b[0mraise_model_input_error\u001b[0m\u001b[1;33m(\u001b[0m\u001b[0mmodel\u001b[0m\u001b[1;33m)\u001b[0m\u001b[1;33m\u001b[0m\u001b[1;33m\u001b[0m\u001b[0m\n\u001b[0m\u001b[0;32m     75\u001b[0m \u001b[1;33m\u001b[0m\u001b[0m\n\u001b[0;32m     76\u001b[0m   \u001b[1;32mif\u001b[0m \u001b[1;32mnot\u001b[0m \u001b[0minclude_optimizer\u001b[0m\u001b[1;33m:\u001b[0m\u001b[1;33m\u001b[0m\u001b[1;33m\u001b[0m\u001b[0m\n",
      "\u001b[1;32mc:\\Users\\Asad\\AppData\\Local\\Programs\\Python\\Python39\\lib\\site-packages\\tensorflow\\python\\keras\\saving\\saving_utils.py\u001b[0m in \u001b[0;36mraise_model_input_error\u001b[1;34m(model)\u001b[0m\n\u001b[0;32m     88\u001b[0m \u001b[1;33m\u001b[0m\u001b[0m\n\u001b[0;32m     89\u001b[0m \u001b[1;32mdef\u001b[0m \u001b[0mraise_model_input_error\u001b[0m\u001b[1;33m(\u001b[0m\u001b[0mmodel\u001b[0m\u001b[1;33m)\u001b[0m\u001b[1;33m:\u001b[0m\u001b[1;33m\u001b[0m\u001b[1;33m\u001b[0m\u001b[0m\n\u001b[1;32m---> 90\u001b[1;33m   raise ValueError(\n\u001b[0m\u001b[0;32m     91\u001b[0m       \u001b[1;34m'Model {} cannot be saved because the input shapes have not been '\u001b[0m\u001b[1;33m\u001b[0m\u001b[1;33m\u001b[0m\u001b[0m\n\u001b[0;32m     92\u001b[0m       \u001b[1;34m'set. Usually, input shapes are automatically determined from calling'\u001b[0m\u001b[1;33m\u001b[0m\u001b[1;33m\u001b[0m\u001b[0m\n",
      "\u001b[1;31mValueError\u001b[0m: Model <tensorflow.python.keras.engine.sequential.Sequential object at 0x0000022F0ABD4640> cannot be saved because the input shapes have not been set. Usually, input shapes are automatically determined from calling `.fit()` or `.predict()`. To manually set the shapes, call `model.build(input_shape)`."
     ]
    }
   ],
   "source": [
    "Model.save(\"predictor_model\")"
   ]
  },
  {
   "cell_type": "code",
   "execution_count": null,
   "metadata": {},
   "outputs": [],
   "source": [
    "Grap_Data = pd.DataFrame(CNN_Model.history)\n",
    "Grap_Data.plot()"
   ]
  },
  {
   "cell_type": "code",
   "execution_count": null,
   "metadata": {},
   "outputs": [],
   "source": [
    "import matplotlib.pyplot as plt"
   ]
  },
  {
   "cell_type": "code",
   "execution_count": null,
   "metadata": {},
   "outputs": [
    {
     "ename": "NameError",
     "evalue": "name 'CNN_Model' is not defined",
     "output_type": "error",
     "traceback": [
      "\u001b[1;31m---------------------------------------------------------------------------\u001b[0m",
      "\u001b[1;31mNameError\u001b[0m                                 Traceback (most recent call last)",
      "\u001b[1;32m<ipython-input-146-94c52aaac434>\u001b[0m in \u001b[0;36m<module>\u001b[1;34m\u001b[0m\n\u001b[1;32m----> 1\u001b[1;33m \u001b[0mplt\u001b[0m\u001b[1;33m.\u001b[0m\u001b[0mplot\u001b[0m\u001b[1;33m(\u001b[0m\u001b[0mCNN_Model\u001b[0m\u001b[1;33m.\u001b[0m\u001b[0mhistory\u001b[0m\u001b[1;33m[\u001b[0m\u001b[1;34m\"accuracy\"\u001b[0m\u001b[1;33m]\u001b[0m\u001b[1;33m)\u001b[0m\u001b[1;33m\u001b[0m\u001b[1;33m\u001b[0m\u001b[0m\n\u001b[0m\u001b[0;32m      2\u001b[0m \u001b[0mplt\u001b[0m\u001b[1;33m.\u001b[0m\u001b[0mplot\u001b[0m\u001b[1;33m(\u001b[0m\u001b[0mCNN_Model\u001b[0m\u001b[1;33m.\u001b[0m\u001b[0mhistory\u001b[0m\u001b[1;33m[\u001b[0m\u001b[1;34m\"val_accuracy\"\u001b[0m\u001b[1;33m]\u001b[0m\u001b[1;33m)\u001b[0m\u001b[1;33m\u001b[0m\u001b[1;33m\u001b[0m\u001b[0m\n\u001b[0;32m      3\u001b[0m \u001b[0mplt\u001b[0m\u001b[1;33m.\u001b[0m\u001b[0mylabel\u001b[0m\u001b[1;33m(\u001b[0m\u001b[1;34m\"ACCURACY\"\u001b[0m\u001b[1;33m)\u001b[0m\u001b[1;33m\u001b[0m\u001b[1;33m\u001b[0m\u001b[0m\n\u001b[0;32m      4\u001b[0m \u001b[0mplt\u001b[0m\u001b[1;33m.\u001b[0m\u001b[0mlegend\u001b[0m\u001b[1;33m(\u001b[0m\u001b[1;33m)\u001b[0m\u001b[1;33m\u001b[0m\u001b[1;33m\u001b[0m\u001b[0m\n\u001b[0;32m      5\u001b[0m \u001b[0mplt\u001b[0m\u001b[1;33m.\u001b[0m\u001b[0mshow\u001b[0m\u001b[1;33m(\u001b[0m\u001b[1;33m)\u001b[0m\u001b[1;33m\u001b[0m\u001b[1;33m\u001b[0m\u001b[0m\n",
      "\u001b[1;31mNameError\u001b[0m: name 'CNN_Model' is not defined"
     ]
    }
   ],
   "source": [
    "plt.plot(CNN_Model.history[\"accuracy\"])\n",
    "plt.plot(CNN_Model.history[\"val_accuracy\"])\n",
    "plt.ylabel(\"ACCURACY\")\n",
    "plt.legend()\n",
    "plt.show()"
   ]
  },
  {
   "cell_type": "code",
   "execution_count": null,
   "metadata": {},
   "outputs": [],
   "source": [
    "plt.plot(CNN_Model.history[\"loss\"])\n",
    "plt.plot(CNN_Model.history[\"val_loss\"])\n",
    "plt.ylabel(\"LOSS\")\n",
    "plt.legend()\n",
    "plt.show()"
   ]
  },
  {
   "cell_type": "code",
   "execution_count": null,
   "metadata": {},
   "outputs": [],
   "source": [
    "Model_Results = Model.evaluate(test_set)\n",
    "print(\"LOSS:  \" + \"%.4f\" % Model_Results[0])\n",
    "print(\"ACCURACY:  \" + \"%.2f\" % Model_Results[1])"
   ]
  }
 ],
 "metadata": {
  "kernelspec": {
   "display_name": "Python 3.9.5 64-bit",
   "language": "python",
   "name": "python3"
  },
  "language_info": {
   "codemirror_mode": {
    "name": "ipython",
    "version": 3
   },
   "file_extension": ".py",
   "mimetype": "text/x-python",
   "name": "python",
   "nbconvert_exporter": "python",
   "pygments_lexer": "ipython3",
   "version": "3.9.5"
  },
  "orig_nbformat": 4,
  "vscode": {
   "interpreter": {
    "hash": "794c8ee45fbdced4b09f08e31049408eb375cedc0a15641211ff1d548587d5ef"
   }
  }
 },
 "nbformat": 4,
 "nbformat_minor": 2
}
